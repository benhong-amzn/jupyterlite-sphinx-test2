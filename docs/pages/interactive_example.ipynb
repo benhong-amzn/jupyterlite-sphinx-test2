{
 "cells": [
  {
   "cell_type": "markdown",
   "id": "fc7da6f4",
   "metadata": {},
   "source": [
    "### Interactive Example "
   ]
  },
  {
   "cell_type": "markdown",
   "id": "623fafd2",
   "metadata": {},
   "source": [
    "The following code blocks will show you how to build a Bell state quantum circuit and simulate it on a quantum simulator"
   ]
  },
  {
   "cell_type": "code",
   "execution_count": 1,
   "id": "be006cbc",
   "metadata": {},
   "outputs": [],
   "source": [
    "# AWS imports: Import Braket SDK modules\n",
    "from braket.circuits import Circuit\n",
    "from braket.devices import LocalSimulator"
   ]
  },
  {
   "cell_type": "markdown",
   "id": "165c1112",
   "metadata": {},
   "source": [
    "#### Build a circuit\n",
    "\n",
    "We can start building circuits by instantiating `Circuit()` objects and then simply adding quantum gates to them. "
   ]
  },
  {
   "cell_type": "code",
   "execution_count": 2,
   "id": "1b7fef40",
   "metadata": {},
   "outputs": [],
   "source": [
    "# build a Bell state with two qubits. Here 'cnot(control=0, target=1)' can be simplified as 'cnot(0,1)'\n",
    "bell = Circuit().h(0).cnot(control=0, target=1)"
   ]
  },
  {
   "cell_type": "markdown",
   "id": "ed96ba03",
   "metadata": {},
   "source": [
    "#### Run a circuit\n",
    "\n",
    "We can run the quantum circuits on a local simulator which comes prepackaged with the Amazon Braket SDK."
   ]
  },
  {
   "cell_type": "code",
   "execution_count": 3,
   "id": "5e3ac482",
   "metadata": {},
   "outputs": [
    {
     "name": "stdout",
     "output_type": "stream",
     "text": [
      "Counter({'00': 512, '11': 488})\n"
     ]
    }
   ],
   "source": [
    "# set up device\n",
    "device = LocalSimulator()\n",
    "\n",
    "# run circuit\n",
    "result = device.run(bell, shots=1000).result()\n",
    "\n",
    "# print measurement counts\n",
    "print(result.measurement_counts)"
   ]
  }
 ],
 "metadata": {
  "kernelspec": {
   "display_name": "Python 3 (ipykernel)",
   "language": "python",
   "name": "python3"
  },
  "language_info": {
   "codemirror_mode": {
    "name": "ipython",
    "version": 3
   },
   "file_extension": ".py",
   "mimetype": "text/x-python",
   "name": "python",
   "nbconvert_exporter": "python",
   "pygments_lexer": "ipython3",
   "version": "3.7.11"
  }
 },
 "nbformat": 4,
 "nbformat_minor": 5
}
